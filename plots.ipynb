{
 "metadata": {
  "name": ""
 },
 "nbformat": 3,
 "nbformat_minor": 0,
 "worksheets": [
  {
   "cells": [
    {
     "cell_type": "code",
     "collapsed": false,
     "input": [
      "%matplotlib inline\n",
      "\n",
      "import pandas as pd\n",
      "import matplotlib.pyplot as plt\n",
      "\n",
      "import itertools\n",
      "\n",
      "# Make the graphs a bit prettier, and bigger\n",
      "pd.set_option('display.mpl_style', 'default')\n",
      "plt.rcParams['figure.figsize'] = (15, 5)"
     ],
     "language": "python",
     "metadata": {},
     "outputs": [],
     "prompt_number": 21
    },
    {
     "cell_type": "code",
     "collapsed": false,
     "input": [
      "data = pd.read_csv(\"20{1}-{0:02d} - Citi Bike trip data.csv\".format(10, 13),\n",
      "                   parse_dates=['starttime', 'stoptime'], na_values=['\\N', '\\\\N'])\n",
      "data.columns = data.columns.map(lambda x: x.replace(' ', '_'))\n",
      "data.columns"
     ],
     "language": "python",
     "metadata": {},
     "outputs": [
      {
       "metadata": {},
       "output_type": "pyout",
       "prompt_number": 22,
       "text": [
        "Index([u'tripduration', u'starttime', u'stoptime', u'start_station_id', u'start_station_name', u'start_station_latitude', u'start_station_longitude', u'end_station_id', u'end_station_name', u'end_station_latitude', u'end_station_longitude', u'bikeid', u'usertype', u'birth_year', u'gender'], dtype='object')"
       ]
      }
     ],
     "prompt_number": 22
    },
    {
     "cell_type": "code",
     "collapsed": false,
     "input": [
      "duration_gender = pd.DataFrame(data, columns=['tripduration', 'gender'])\n",
      "average_duration_by_gender = duration_gender.groupby('gender').mean()\n",
      "average_duration_by_gender = average_duration_by_gender / 60\n",
      "average_duration_by_gender.plot(kind='bar')"
     ],
     "language": "python",
     "metadata": {},
     "outputs": [
      {
       "metadata": {},
       "output_type": "pyout",
       "prompt_number": 22,
       "text": [
        "<matplotlib.axes.AxesSubplot at 0x700aa50>"
       ]
      },
      {
       "metadata": {},
       "output_type": "display_data",
       "png": "[encoded data removed]",
       "text": [
        "<matplotlib.figure.Figure at 0x4a18c50>"
       ]
      }
     ],
     "prompt_number": 22
    },
    {
     "cell_type": "code",
     "collapsed": false,
     "input": [
      "birth_year_gender = pd.DataFrame(data, columns=['birth_year', 'gender'])\n",
      "# NOT ENOUGH DATA FOR GENDER == 0 (not specifier)\n",
      "birth_year_gender = birth_year_gender[birth_year_gender.gender != 0]\n",
      "birth_year_gender.dropna(inplace=True)\n",
      "birth_year_gender['age'] = birth_year_gender.birth_year.map(lambda x: 2014 - int(x))\n",
      "age_gender = birth_year_gender.drop('birth_year', 1)\n",
      "age_by_gender = age_gender.groupby('gender')\n",
      "age_by_gender.describe()"
     ],
     "language": "python",
     "metadata": {},
     "outputs": [
      {
       "html": [
        "<div style=\"max-height:1000px;max-width:1500px;overflow:auto;\">\n",
        "<table border=\"1\" class=\"dataframe\">\n",
        "  <thead>\n",
        "    <tr style=\"text-align: right;\">\n",
        "      <th></th>\n",
        "      <th></th>\n",
        "      <th>gender</th>\n",
        "      <th>age</th>\n",
        "    </tr>\n",
        "    <tr>\n",
        "      <th>gender</th>\n",
        "      <th></th>\n",
        "      <th></th>\n",
        "      <th></th>\n",
        "    </tr>\n",
        "  </thead>\n",
        "  <tbody>\n",
        "    <tr>\n",
        "      <th rowspan=\"8\" valign=\"top\">1</th>\n",
        "      <th>count</th>\n",
        "      <td> 714292</td>\n",
        "      <td> 714292.000000</td>\n",
        "    </tr>\n",
        "    <tr>\n",
        "      <th>mean</th>\n",
        "      <td>      1</td>\n",
        "      <td>     38.615376</td>\n",
        "    </tr>\n",
        "    <tr>\n",
        "      <th>std</th>\n",
        "      <td>      0</td>\n",
        "      <td>     11.197246</td>\n",
        "    </tr>\n",
        "    <tr>\n",
        "      <th>min</th>\n",
        "      <td>      1</td>\n",
        "      <td>     17.000000</td>\n",
        "    </tr>\n",
        "    <tr>\n",
        "      <th>25%</th>\n",
        "      <td>      1</td>\n",
        "      <td>     30.000000</td>\n",
        "    </tr>\n",
        "    <tr>\n",
        "      <th>50%</th>\n",
        "      <td>      1</td>\n",
        "      <td>     36.000000</td>\n",
        "    </tr>\n",
        "    <tr>\n",
        "      <th>75%</th>\n",
        "      <td>      1</td>\n",
        "      <td>     46.000000</td>\n",
        "    </tr>\n",
        "    <tr>\n",
        "      <th>max</th>\n",
        "      <td>      1</td>\n",
        "      <td>    115.000000</td>\n",
        "    </tr>\n",
        "    <tr>\n",
        "      <th rowspan=\"8\" valign=\"top\">2</th>\n",
        "      <th>count</th>\n",
        "      <td> 225921</td>\n",
        "      <td> 225921.000000</td>\n",
        "    </tr>\n",
        "    <tr>\n",
        "      <th>mean</th>\n",
        "      <td>      2</td>\n",
        "      <td>     36.973199</td>\n",
        "    </tr>\n",
        "    <tr>\n",
        "      <th>std</th>\n",
        "      <td>      0</td>\n",
        "      <td>     10.823885</td>\n",
        "    </tr>\n",
        "    <tr>\n",
        "      <th>min</th>\n",
        "      <td>      2</td>\n",
        "      <td>     17.000000</td>\n",
        "    </tr>\n",
        "    <tr>\n",
        "      <th>25%</th>\n",
        "      <td>      2</td>\n",
        "      <td>     29.000000</td>\n",
        "    </tr>\n",
        "    <tr>\n",
        "      <th>50%</th>\n",
        "      <td>      2</td>\n",
        "      <td>     34.000000</td>\n",
        "    </tr>\n",
        "    <tr>\n",
        "      <th>75%</th>\n",
        "      <td>      2</td>\n",
        "      <td>     44.000000</td>\n",
        "    </tr>\n",
        "    <tr>\n",
        "      <th>max</th>\n",
        "      <td>      2</td>\n",
        "      <td>    115.000000</td>\n",
        "    </tr>\n",
        "  </tbody>\n",
        "</table>\n",
        "<p>16 rows \u00d7 2 columns</p>\n",
        "</div>"
       ],
       "metadata": {},
       "output_type": "pyout",
       "prompt_number": 36,
       "text": [
        "              gender            age\n",
        "gender                             \n",
        "1      count  714292  714292.000000\n",
        "       mean        1      38.615376\n",
        "       std         0      11.197246\n",
        "       min         1      17.000000\n",
        "       25%         1      30.000000\n",
        "       50%         1      36.000000\n",
        "       75%         1      46.000000\n",
        "       max         1     115.000000\n",
        "2      count  225921  225921.000000\n",
        "       mean        2      36.973199\n",
        "       std         0      10.823885\n",
        "       min         2      17.000000\n",
        "       25%         2      29.000000\n",
        "       50%         2      34.000000\n",
        "       75%         2      44.000000\n",
        "       max         2     115.000000\n",
        "\n",
        "[16 rows x 2 columns]"
       ]
      }
     ],
     "prompt_number": 36
    },
    {
     "cell_type": "code",
     "collapsed": false,
     "input": [],
     "language": "python",
     "metadata": {},
     "outputs": []
    }
   ],
   "metadata": {}
  }
 ]
}