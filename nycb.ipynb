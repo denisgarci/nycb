{
 "metadata": {
  "name": ""
 },
 "nbformat": 3,
 "nbformat_minor": 0,
 "worksheets": [
  {
   "cells": [
    {
     "cell_type": "code",
     "collapsed": false,
     "input": [
      "%matplotlib inline\n",
      "\n",
      "import pandas as pd\n",
      "import matplotlib.pyplot as plt\n",
      "import datetime\n",
      "\n",
      "import itertools"
     ],
     "language": "python",
     "metadata": {},
     "outputs": [],
     "prompt_number": 33
    },
    {
     "cell_type": "code",
     "collapsed": false,
     "input": [
      "datas = [pd.read_csv(\"20{1}-{0:02d} - Citi Bike trip data.csv\".format(*date))\n",
      "         for date in itertools.chain(itertools.product(range(7, 13), [13]), itertools.product(range(1, 3), [14]))]"
     ],
     "language": "python",
     "metadata": {},
     "outputs": [],
     "prompt_number": 2
    },
    {
     "cell_type": "code",
     "collapsed": false,
     "input": [
      "data = pd.concat(datas)"
     ],
     "language": "python",
     "metadata": {},
     "outputs": [],
     "prompt_number": 3
    },
    {
     "cell_type": "raw",
     "metadata": {},
     "source": [
      "USING ONLY FEBRUARY FOR TESTING..."
     ]
    },
    {
     "cell_type": "code",
     "collapsed": false,
     "input": [
      "data = pd.read_csv(\"20{1}-{0:02d} - Citi Bike trip data.csv\".format(2, 14), parse_dates=['starttime', 'stoptime'])"
     ],
     "language": "python",
     "metadata": {},
     "outputs": [],
     "prompt_number": 38
    },
    {
     "cell_type": "code",
     "collapsed": false,
     "input": [
      "data.stoptime"
     ],
     "language": "python",
     "metadata": {},
     "outputs": [
      {
       "metadata": {},
       "output_type": "pyout",
       "prompt_number": 39,
       "text": [
        "0    2014-02-01 00:06:22\n",
        "1    2014-02-01 00:06:15\n",
        "2    2014-02-01 00:10:00\n",
        "3    2014-02-01 00:10:15\n",
        "4    2014-02-01 00:04:24\n",
        "5    2014-02-01 00:09:47\n",
        "6    2014-02-01 00:06:55\n",
        "7    2014-02-01 00:16:27\n",
        "8    2014-02-01 00:06:10\n",
        "9    2014-02-01 00:09:33\n",
        "10   2014-02-01 00:18:16\n",
        "11   2014-02-01 00:08:34\n",
        "12   2014-02-01 00:19:57\n",
        "13   2014-02-01 00:10:39\n",
        "14   2014-02-01 00:14:37\n",
        "...\n",
        "224721   2014-02-28 23:57:20\n",
        "224722   2014-03-01 00:01:47\n",
        "224723   2014-02-28 23:57:43\n",
        "224724   2014-02-28 23:57:45\n",
        "224725   2014-02-28 23:56:36\n",
        "224726   2014-03-01 00:10:09\n",
        "224727   2014-03-01 00:14:09\n",
        "224728   2014-03-01 00:11:13\n",
        "224729   2014-03-01 00:00:06\n",
        "224730   2014-03-01 00:00:07\n",
        "224731   2014-03-01 00:11:21\n",
        "224732   2014-03-01 00:20:30\n",
        "224733   2014-03-01 00:03:21\n",
        "224734   2014-03-01 00:04:18\n",
        "224735   2014-03-01 00:09:50\n",
        "Name: stoptime, Length: 224736, dtype: datetime64[ns]"
       ]
      }
     ],
     "prompt_number": 39
    },
    {
     "cell_type": "code",
     "collapsed": false,
     "input": [
      "data.dtypes()"
     ],
     "language": "python",
     "metadata": {},
     "outputs": [
      {
       "ename": "TypeError",
       "evalue": "'Series' object is not callable",
       "output_type": "pyerr",
       "traceback": [
        "\u001b[1;31m---------------------------------------------------------------------------\u001b[0m\n\u001b[1;31mTypeError\u001b[0m                                 Traceback (most recent call last)",
        "\u001b[1;32m<ipython-input-27-b312958312c3>\u001b[0m in \u001b[0;36m<module>\u001b[1;34m()\u001b[0m\n\u001b[1;32m----> 1\u001b[1;33m \u001b[0mdata\u001b[0m\u001b[1;33m.\u001b[0m\u001b[0mdtypes\u001b[0m\u001b[1;33m(\u001b[0m\u001b[1;33m)\u001b[0m\u001b[1;33m\u001b[0m\u001b[0m\n\u001b[0m",
        "\u001b[1;31mTypeError\u001b[0m: 'Series' object is not callable"
       ]
      }
     ],
     "prompt_number": 27
    },
    {
     "cell_type": "code",
     "collapsed": false,
     "input": [
      "data.starttime"
     ],
     "language": "python",
     "metadata": {},
     "outputs": [
      {
       "metadata": {},
       "output_type": "pyout",
       "prompt_number": 10,
       "text": [
        "0     2014-02-01 00:00:00\n",
        "1     2014-02-01 00:00:03\n",
        "2     2014-02-01 00:00:09\n",
        "3     2014-02-01 00:00:32\n",
        "4     2014-02-01 00:00:41\n",
        "5     2014-02-01 00:00:46\n",
        "6     2014-02-01 00:01:01\n",
        "7     2014-02-01 00:01:11\n",
        "8     2014-02-01 00:01:33\n",
        "9     2014-02-01 00:02:14\n",
        "10    2014-02-01 00:02:17\n",
        "11    2014-02-01 00:02:35\n",
        "12    2014-02-01 00:02:37\n",
        "13    2014-02-01 00:02:42\n",
        "14    2014-02-01 00:02:50\n",
        "...\n",
        "224721    2014-02-28 23:49:42\n",
        "224722    2014-02-28 23:50:14\n",
        "224723    2014-02-28 23:50:48\n",
        "224724    2014-02-28 23:51:46\n",
        "224725    2014-02-28 23:52:47\n",
        "224726    2014-02-28 23:53:47\n",
        "224727    2014-02-28 23:53:59\n",
        "224728    2014-02-28 23:54:45\n",
        "224729    2014-02-28 23:55:39\n",
        "224730    2014-02-28 23:57:12\n",
        "224731    2014-02-28 23:57:13\n",
        "224732    2014-02-28 23:57:55\n",
        "224733    2014-02-28 23:58:17\n",
        "224734    2014-02-28 23:59:10\n",
        "224735    2014-02-28 23:59:47\n",
        "Name: starttime, Length: 224736, dtype: object"
       ]
      }
     ],
     "prompt_number": 10
    },
    {
     "cell_type": "code",
     "collapsed": false,
     "input": [],
     "language": "python",
     "metadata": {},
     "outputs": []
    }
   ],
   "metadata": {}
  }
 ]
}