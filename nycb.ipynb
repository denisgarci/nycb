{
 "metadata": {
  "name": ""
 },
 "nbformat": 3,
 "nbformat_minor": 0,
 "worksheets": [
  {
   "cells": [
    {
     "cell_type": "code",
     "collapsed": false,
     "input": [
      "%matplotlib inline\n",
      "\n",
      "import pandas as pd\n",
      "import matplotlib.pyplot as plt\n",
      "\n",
      "import itertools\n",
      "\n",
      "# Make the graphs a bit prettier, and bigger\n",
      "pd.set_option('display.mpl_style', 'default')\n",
      "plt.rcParams['figure.figsize'] = (15, 5)"
     ],
     "language": "python",
     "metadata": {},
     "outputs": [],
     "prompt_number": 8
    },
    {
     "cell_type": "raw",
     "metadata": {},
     "source": [
      "USING ONLY FEBRUARY FOR TESTING..."
     ]
    },
    {
     "cell_type": "code",
     "collapsed": false,
     "input": [
      "data = pd.read_csv(\"20{1}-{0:02d} - Citi Bike trip data.csv\".format(2, 14), parse_dates=['starttime', 'stoptime'])"
     ],
     "language": "python",
     "metadata": {},
     "outputs": [],
     "prompt_number": 2
    },
    {
     "cell_type": "code",
     "collapsed": false,
     "input": [
      "data.columns = data.columns.map(lambda x: x.replace(' ', '_'))\n",
      "data.columns"
     ],
     "language": "python",
     "metadata": {},
     "outputs": [
      {
       "metadata": {},
       "output_type": "pyout",
       "prompt_number": 3,
       "text": [
        "Index([u'tripduration', u'starttime', u'stoptime', u'start_station_id', u'start_station_name', u'start_station_latitude', u'start_station_longitude', u'end_station_id', u'end_station_name', u'end_station_latitude', u'end_station_longitude', u'bikeid', u'usertype', u'birth_year', u'gender'], dtype='object')"
       ]
      }
     ],
     "prompt_number": 3
    },
    {
     "cell_type": "code",
     "collapsed": false,
     "input": [
      "b_out = data[data.start_station_id == 489]\n",
      "b_out['date'] = b_out.starttime.map(lambda x: x.date())\n",
      "b_out['time'] = b_out.starttime.map(lambda x: x.time())\n",
      "b_out['hour'] = b_out.starttime.map(lambda x: x.hour)"
     ],
     "language": "python",
     "metadata": {},
     "outputs": [],
     "prompt_number": 6
    },
    {
     "cell_type": "code",
     "collapsed": false,
     "input": [
      "bike_trips = pd.DataFrame(data, columns=['bikeid', 'starttime', 'stoptime', 'start_station_name', 'end_station_name'])\n"
     ],
     "language": "python",
     "metadata": {},
     "outputs": [],
     "prompt_number": 16
    },
    {
     "cell_type": "code",
     "collapsed": false,
     "input": [
      "bike_trips.tail()"
     ],
     "language": "python",
     "metadata": {},
     "outputs": [
      {
       "html": [
        "<div style=\"max-height:1000px;max-width:1500px;overflow:auto;\">\n",
        "<table border=\"1\" class=\"dataframe\">\n",
        "  <thead>\n",
        "    <tr style=\"text-align: right;\">\n",
        "      <th></th>\n",
        "      <th>bikeid</th>\n",
        "      <th>starttime</th>\n",
        "      <th>stoptime</th>\n",
        "      <th>start_station_name</th>\n",
        "      <th>end_station_name</th>\n",
        "    </tr>\n",
        "  </thead>\n",
        "  <tbody>\n",
        "    <tr>\n",
        "      <th>224731</th>\n",
        "      <td> 17413</td>\n",
        "      <td>2014-02-28 23:57:13</td>\n",
        "      <td>2014-03-01 00:11:21</td>\n",
        "      <td>           Broadway &amp; W 32 St</td>\n",
        "      <td>     E 7 St &amp; Avenue A</td>\n",
        "    </tr>\n",
        "    <tr>\n",
        "      <th>224732</th>\n",
        "      <td> 15608</td>\n",
        "      <td>2014-02-28 23:57:55</td>\n",
        "      <td>2014-03-01 00:20:30</td>\n",
        "      <td>              W 20 St &amp; 8 Ave</td>\n",
        "      <td>     Avenue D &amp; E 3 St</td>\n",
        "    </tr>\n",
        "    <tr>\n",
        "      <th>224733</th>\n",
        "      <td> 17112</td>\n",
        "      <td>2014-02-28 23:58:17</td>\n",
        "      <td>2014-03-01 00:03:21</td>\n",
        "      <td>           E 17 St &amp; Broadway</td>\n",
        "      <td>       W 20 St &amp; 7 Ave</td>\n",
        "    </tr>\n",
        "    <tr>\n",
        "      <th>224734</th>\n",
        "      <td> 14761</td>\n",
        "      <td>2014-02-28 23:59:10</td>\n",
        "      <td>2014-03-01 00:04:18</td>\n",
        "      <td>   S Portland Ave &amp; Hanson Pl</td>\n",
        "      <td> Fulton St &amp; Grand Ave</td>\n",
        "    </tr>\n",
        "    <tr>\n",
        "      <th>224735</th>\n",
        "      <td> 18783</td>\n",
        "      <td>2014-02-28 23:59:47</td>\n",
        "      <td>2014-03-01 00:09:50</td>\n",
        "      <td> MacDougal St &amp; Washington Sq</td>\n",
        "      <td>   E 16 St &amp; Irving Pl</td>\n",
        "    </tr>\n",
        "  </tbody>\n",
        "</table>\n",
        "<p>5 rows \u00d7 5 columns</p>\n",
        "</div>"
       ],
       "metadata": {},
       "output_type": "pyout",
       "prompt_number": 17,
       "text": [
        "        bikeid           starttime            stoptime  \\\n",
        "224731   17413 2014-02-28 23:57:13 2014-03-01 00:11:21   \n",
        "224732   15608 2014-02-28 23:57:55 2014-03-01 00:20:30   \n",
        "224733   17112 2014-02-28 23:58:17 2014-03-01 00:03:21   \n",
        "224734   14761 2014-02-28 23:59:10 2014-03-01 00:04:18   \n",
        "224735   18783 2014-02-28 23:59:47 2014-03-01 00:09:50   \n",
        "\n",
        "                  start_station_name       end_station_name  \n",
        "224731            Broadway & W 32 St      E 7 St & Avenue A  \n",
        "224732               W 20 St & 8 Ave      Avenue D & E 3 St  \n",
        "224733            E 17 St & Broadway        W 20 St & 7 Ave  \n",
        "224734    S Portland Ave & Hanson Pl  Fulton St & Grand Ave  \n",
        "224735  MacDougal St & Washington Sq    E 16 St & Irving Pl  \n",
        "\n",
        "[5 rows x 5 columns]"
       ]
      }
     ],
     "prompt_number": 17
    },
    {
     "cell_type": "code",
     "collapsed": false,
     "input": [
      "bike_trips.describe()"
     ],
     "language": "python",
     "metadata": {},
     "outputs": [
      {
       "html": [
        "<div style=\"max-height:1000px;max-width:1500px;overflow:auto;\">\n",
        "<table border=\"1\" class=\"dataframe\">\n",
        "  <thead>\n",
        "    <tr style=\"text-align: right;\">\n",
        "      <th></th>\n",
        "      <th>bikeid</th>\n",
        "      <th>tripduration</th>\n",
        "      <th>gender</th>\n",
        "    </tr>\n",
        "  </thead>\n",
        "  <tbody>\n",
        "    <tr>\n",
        "      <th>count</th>\n",
        "      <td> 224736.000000</td>\n",
        "      <td> 224736.000000</td>\n",
        "      <td> 224736.000000</td>\n",
        "    </tr>\n",
        "    <tr>\n",
        "      <th>mean</th>\n",
        "      <td>  18010.598222</td>\n",
        "      <td>    874.519810</td>\n",
        "      <td>      1.154617</td>\n",
        "    </tr>\n",
        "    <tr>\n",
        "      <th>std</th>\n",
        "      <td>   1987.769335</td>\n",
        "      <td>   5486.092219</td>\n",
        "      <td>      0.436592</td>\n",
        "    </tr>\n",
        "    <tr>\n",
        "      <th>min</th>\n",
        "      <td>  14529.000000</td>\n",
        "      <td>     60.000000</td>\n",
        "      <td>      0.000000</td>\n",
        "    </tr>\n",
        "    <tr>\n",
        "      <th>25%</th>\n",
        "      <td>  16302.000000</td>\n",
        "      <td>    360.000000</td>\n",
        "      <td>      1.000000</td>\n",
        "    </tr>\n",
        "    <tr>\n",
        "      <th>50%</th>\n",
        "      <td>  17975.000000</td>\n",
        "      <td>    544.000000</td>\n",
        "      <td>      1.000000</td>\n",
        "    </tr>\n",
        "    <tr>\n",
        "      <th>75%</th>\n",
        "      <td>  19689.000000</td>\n",
        "      <td>    845.000000</td>\n",
        "      <td>      1.000000</td>\n",
        "    </tr>\n",
        "    <tr>\n",
        "      <th>max</th>\n",
        "      <td>  21542.000000</td>\n",
        "      <td> 766108.000000</td>\n",
        "      <td>      2.000000</td>\n",
        "    </tr>\n",
        "  </tbody>\n",
        "</table>\n",
        "<p>8 rows \u00d7 3 columns</p>\n",
        "</div>"
       ],
       "metadata": {},
       "output_type": "pyout",
       "prompt_number": 5,
       "text": [
        "              bikeid   tripduration         gender\n",
        "count  224736.000000  224736.000000  224736.000000\n",
        "mean    18010.598222     874.519810       1.154617\n",
        "std      1987.769335    5486.092219       0.436592\n",
        "min     14529.000000      60.000000       0.000000\n",
        "25%     16302.000000     360.000000       1.000000\n",
        "50%     17975.000000     544.000000       1.000000\n",
        "75%     19689.000000     845.000000       1.000000\n",
        "max     21542.000000  766108.000000       2.000000\n",
        "\n",
        "[8 rows x 3 columns]"
       ]
      }
     ],
     "prompt_number": 5
    },
    {
     "cell_type": "code",
     "collapsed": false,
     "input": [
      "by_bikeid = bike_trips.groupby('bikeid')\n",
      "by_gender = bike_trips.groupby('gender')"
     ],
     "language": "python",
     "metadata": {},
     "outputs": [],
     "prompt_number": 6
    },
    {
     "cell_type": "code",
     "collapsed": false,
     "input": [
      "by_gender.mean()"
     ],
     "language": "python",
     "metadata": {},
     "outputs": [
      {
       "html": [
        "<div style=\"max-height:1000px;max-width:1500px;overflow:auto;\">\n",
        "<table border=\"1\" class=\"dataframe\">\n",
        "  <thead>\n",
        "    <tr style=\"text-align: right;\">\n",
        "      <th></th>\n",
        "      <th>bikeid</th>\n",
        "      <th>tripduration</th>\n",
        "    </tr>\n",
        "    <tr>\n",
        "      <th>gender</th>\n",
        "      <th></th>\n",
        "      <th></th>\n",
        "    </tr>\n",
        "  </thead>\n",
        "  <tbody>\n",
        "    <tr>\n",
        "      <th>0</th>\n",
        "      <td> 18018.406180</td>\n",
        "      <td> 1740.830932</td>\n",
        "    </tr>\n",
        "    <tr>\n",
        "      <th>1</th>\n",
        "      <td> 18012.187145</td>\n",
        "      <td>  814.032409</td>\n",
        "    </tr>\n",
        "    <tr>\n",
        "      <th>2</th>\n",
        "      <td> 18002.569059</td>\n",
        "      <td>  991.361074</td>\n",
        "    </tr>\n",
        "  </tbody>\n",
        "</table>\n",
        "<p>3 rows \u00d7 2 columns</p>\n",
        "</div>"
       ],
       "metadata": {},
       "output_type": "pyout",
       "prompt_number": 7,
       "text": [
        "              bikeid  tripduration\n",
        "gender                            \n",
        "0       18018.406180   1740.830932\n",
        "1       18012.187145    814.032409\n",
        "2       18002.569059    991.361074\n",
        "\n",
        "[3 rows x 2 columns]"
       ]
      }
     ],
     "prompt_number": 7
    },
    {
     "cell_type": "code",
     "collapsed": false,
     "input": [
      "station_out = pd.DataFrame(data, columns=['starttime', 'start_station_name', 'delta'])\n",
      "station_out.delta = 1\n",
      "station_out.rename(columns={'start_station_name': 'station', 'starttime': 'time'}, inplace=True)\n",
      "station_out.tail()"
     ],
     "language": "python",
     "metadata": {},
     "outputs": [
      {
       "html": [
        "<div style=\"max-height:1000px;max-width:1500px;overflow:auto;\">\n",
        "<table border=\"1\" class=\"dataframe\">\n",
        "  <thead>\n",
        "    <tr style=\"text-align: right;\">\n",
        "      <th></th>\n",
        "      <th>time</th>\n",
        "      <th>station</th>\n",
        "      <th>delta</th>\n",
        "    </tr>\n",
        "  </thead>\n",
        "  <tbody>\n",
        "    <tr>\n",
        "      <th>224731</th>\n",
        "      <td>2014-02-28 23:57:13</td>\n",
        "      <td>           Broadway &amp; W 32 St</td>\n",
        "      <td> 1</td>\n",
        "    </tr>\n",
        "    <tr>\n",
        "      <th>224732</th>\n",
        "      <td>2014-02-28 23:57:55</td>\n",
        "      <td>              W 20 St &amp; 8 Ave</td>\n",
        "      <td> 1</td>\n",
        "    </tr>\n",
        "    <tr>\n",
        "      <th>224733</th>\n",
        "      <td>2014-02-28 23:58:17</td>\n",
        "      <td>           E 17 St &amp; Broadway</td>\n",
        "      <td> 1</td>\n",
        "    </tr>\n",
        "    <tr>\n",
        "      <th>224734</th>\n",
        "      <td>2014-02-28 23:59:10</td>\n",
        "      <td>   S Portland Ave &amp; Hanson Pl</td>\n",
        "      <td> 1</td>\n",
        "    </tr>\n",
        "    <tr>\n",
        "      <th>224735</th>\n",
        "      <td>2014-02-28 23:59:47</td>\n",
        "      <td> MacDougal St &amp; Washington Sq</td>\n",
        "      <td> 1</td>\n",
        "    </tr>\n",
        "  </tbody>\n",
        "</table>\n",
        "<p>5 rows \u00d7 3 columns</p>\n",
        "</div>"
       ],
       "metadata": {},
       "output_type": "pyout",
       "prompt_number": 26,
       "text": [
        "                      time                       station  delta\n",
        "224731 2014-02-28 23:57:13            Broadway & W 32 St      1\n",
        "224732 2014-02-28 23:57:55               W 20 St & 8 Ave      1\n",
        "224733 2014-02-28 23:58:17            E 17 St & Broadway      1\n",
        "224734 2014-02-28 23:59:10    S Portland Ave & Hanson Pl      1\n",
        "224735 2014-02-28 23:59:47  MacDougal St & Washington Sq      1\n",
        "\n",
        "[5 rows x 3 columns]"
       ]
      }
     ],
     "prompt_number": 26
    },
    {
     "cell_type": "code",
     "collapsed": false,
     "input": [
      "station_ = pd.DataFrame(data, columns=['stoptime', 'end_station_name', 'delta'])\n",
      "station_out.delta = \n",
      "station_out.rename(columns={'start_station_name': 'station', 'starttime': 'time'}, inplace=True)"
     ],
     "language": "python",
     "metadata": {},
     "outputs": [
      {
       "html": [
        "<div style=\"max-height:1000px;max-width:1500px;overflow:auto;\">\n",
        "<table border=\"1\" class=\"dataframe\">\n",
        "  <thead>\n",
        "    <tr style=\"text-align: right;\">\n",
        "      <th></th>\n",
        "      <th>starttime</th>\n",
        "      <th>station</th>\n",
        "      <th>delta</th>\n",
        "    </tr>\n",
        "  </thead>\n",
        "  <tbody>\n",
        "    <tr>\n",
        "      <th>224731</th>\n",
        "      <td>2014-02-28 23:57:13</td>\n",
        "      <td>           Broadway &amp; W 32 St</td>\n",
        "      <td> 1</td>\n",
        "    </tr>\n",
        "    <tr>\n",
        "      <th>224732</th>\n",
        "      <td>2014-02-28 23:57:55</td>\n",
        "      <td>              W 20 St &amp; 8 Ave</td>\n",
        "      <td> 1</td>\n",
        "    </tr>\n",
        "    <tr>\n",
        "      <th>224733</th>\n",
        "      <td>2014-02-28 23:58:17</td>\n",
        "      <td>           E 17 St &amp; Broadway</td>\n",
        "      <td> 1</td>\n",
        "    </tr>\n",
        "    <tr>\n",
        "      <th>224734</th>\n",
        "      <td>2014-02-28 23:59:10</td>\n",
        "      <td>   S Portland Ave &amp; Hanson Pl</td>\n",
        "      <td> 1</td>\n",
        "    </tr>\n",
        "    <tr>\n",
        "      <th>224735</th>\n",
        "      <td>2014-02-28 23:59:47</td>\n",
        "      <td> MacDougal St &amp; Washington Sq</td>\n",
        "      <td> 1</td>\n",
        "    </tr>\n",
        "  </tbody>\n",
        "</table>\n",
        "<p>5 rows \u00d7 3 columns</p>\n",
        "</div>"
       ],
       "metadata": {},
       "output_type": "pyout",
       "prompt_number": 24,
       "text": [
        "                 starttime                       station  delta\n",
        "224731 2014-02-28 23:57:13            Broadway & W 32 St      1\n",
        "224732 2014-02-28 23:57:55               W 20 St & 8 Ave      1\n",
        "224733 2014-02-28 23:58:17            E 17 St & Broadway      1\n",
        "224734 2014-02-28 23:59:10    S Portland Ave & Hanson Pl      1\n",
        "224735 2014-02-28 23:59:47  MacDougal St & Washington Sq      1\n",
        "\n",
        "[5 rows x 3 columns]"
       ]
      }
     ],
     "prompt_number": 24
    },
    {
     "cell_type": "code",
     "collapsed": false,
     "input": [],
     "language": "python",
     "metadata": {},
     "outputs": []
    }
   ],
   "metadata": {}
  }
 ]
}